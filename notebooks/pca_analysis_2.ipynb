{
 "cells": [
  {
   "cell_type": "code",
   "execution_count": null,
   "id": "81d9d380",
   "metadata": {},
   "outputs": [],
   "source": [
    "from sklearn.decomposition import PCA\n",
    "from sklearn.preprocessing import StandardScaler\n",
    "\n"
   ]
  },
  {
   "cell_type": "code",
   "execution_count": null,
   "id": "295b3dea",
   "metadata": {},
   "outputs": [],
   "source": [
    "# Separate features and target\n",
    "X = df.drop('target', axis=1)\n",
    "y = df['target']\n",
    "\n",
    "# Standardize the features\n",
    "scaler = StandardScaler()\n",
    "X_scaled = scaler.fit_transform(X)\n"
   ]
  },
  {
   "cell_type": "code",
   "execution_count": null,
   "id": "b5e3a404",
   "metadata": {},
   "outputs": [],
   "source": [
    "# Apply PCA (keep all components initially)\n",
    "pca = PCA()\n",
    "X_pca = pca.fit_transform(X_scaled)\n"
   ]
  },
  {
   "cell_type": "code",
   "execution_count": null,
   "id": "78352fb6",
   "metadata": {},
   "outputs": [],
   "source": [
    "# Plot cumulative explained variance\n",
    "plt.figure(figsize=(10, 6))\n",
    "plt.plot(np.cumsum(pca.explained_variance_ratio_), marker='o')\n",
    "plt.xlabel('Number of Components')\n",
    "plt.ylabel('Cumulative Explained Variance')\n",
    "plt.title('Explained Variance by PCA Components')\n",
    "plt.grid(True)\n",
    "plt.show()\n"
   ]
  },
  {
   "cell_type": "code",
   "execution_count": null,
   "id": "0ff781d6",
   "metadata": {},
   "outputs": [],
   "source": [
    "# Create a DataFrame with first two principal components\n",
    "pca_df = pd.DataFrame(X_pca[:, :2], columns=['PC1', 'PC2'])\n",
    "pca_df['target'] = y.values\n",
    "\n",
    "# Scatter plot\n",
    "plt.figure(figsize=(8, 6))\n",
    "sns.scatterplot(data=pca_df, x='PC1', y='PC2', hue='target', palette='Set1')\n",
    "plt.title('PCA Projection (First 2 Components)')\n",
    "plt.show()\n"
   ]
  },
  {
   "cell_type": "code",
   "execution_count": null,
   "id": "488fecbc",
   "metadata": {},
   "outputs": [],
   "source": [
    "# Find how many components explain at least 95% of the variance\n",
    "cumulative_variance = np.cumsum(pca.explained_variance_ratio_)\n",
    "n_components_95 = np.argmax(cumulative_variance >= 0.95) + 1\n",
    "print(f'Number of components explaining 95% variance: {n_components_95}')\n"
   ]
  },
  {
   "cell_type": "code",
   "execution_count": null,
   "id": "736ca43e",
   "metadata": {},
   "outputs": [],
   "source": [
    "# Apply PCA again using only the top 12 components\n",
    "pca_12 = PCA(n_components=12)\n",
    "X_pca_12 = pca_12.fit_transform(X_scaled)\n",
    "\n",
    "# Confirm the shape\n",
    "print(\"Shape after PCA:\", X_pca_12.shape)\n"
   ]
  },
  {
   "cell_type": "code",
   "execution_count": null,
   "id": "dd5a3f24",
   "metadata": {},
   "outputs": [],
   "source": [
    "# Create a DataFrame with the 12 principal components\n",
    "pca_columns = [f'PC{i+1}' for i in range(12)]\n",
    "pca_df_12 = pd.DataFrame(X_pca_12, columns=pca_columns)\n",
    "pca_df_12['target'] = y.values\n",
    "\n",
    "# Show first 5 rows\n",
    "print(pca_df_12.head())\n"
   ]
  },
  {
   "cell_type": "code",
   "execution_count": null,
   "id": "f7bd7a77",
   "metadata": {},
   "outputs": [],
   "source": [
    "from sklearn.ensemble import RandomForestClassifier\n",
    "\n",
    "# Fit Random Forest on original data (not PCA)\n",
    "model_rf = RandomForestClassifier(random_state=42)\n",
    "model_rf.fit(X, y)\n",
    "\n",
    "# Get importance\n",
    "importances = model_rf.feature_importances_\n",
    "features = X.columns\n",
    "\n",
    "# Plot\n",
    "plt.figure(figsize=(10, 6))\n",
    "sns.barplot(x=importances, y=features, hue=features, palette='viridis', legend=False)\n",
    "plt.title('Feature Importance from Random Forest')\n",
    "plt.xlabel('Importance')\n",
    "plt.ylabel('Feature')\n",
    "plt.show()\n"
   ]
  },
  {
   "cell_type": "code",
   "execution_count": null,
   "id": "a8787d35",
   "metadata": {},
   "outputs": [],
   "source": []
  },
  {
   "cell_type": "code",
   "execution_count": null,
   "id": "280a4bfc",
   "metadata": {},
   "outputs": [],
   "source": []
  }
 ],
 "metadata": {
  "kernelspec": {
   "display_name": "Python 3",
   "language": "python",
   "name": "python3"
  },
  "language_info": {
   "name": "python",
   "version": "3.12.2"
  }
 },
 "nbformat": 4,
 "nbformat_minor": 5
}
