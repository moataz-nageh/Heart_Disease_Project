{
 "cells": [
  {
   "cell_type": "code",
   "execution_count": null,
   "id": "d0085af4",
   "metadata": {},
   "outputs": [],
   "source": [
    "from sklearn.feature_selection import RFE\n",
    "from sklearn.linear_model import LogisticRegression\n",
    "\n",
    "# Create logistic regression model\n",
    "lr = LogisticRegression(max_iter=1000)\n",
    "\n",
    "# Apply RFE to select top 5 features\n",
    "rfe = RFE(estimator=lr, n_features_to_select=5)\n",
    "rfe.fit(X, y)\n",
    "\n",
    "# Get selected features\n",
    "selected_features_rfe = X.columns[rfe.support_]\n",
    "print(\"Top 5 features selected by RFE:\")\n",
    "print(selected_features_rfe)\n"
   ]
  },
  {
   "cell_type": "code",
   "execution_count": null,
   "id": "3359c30d",
   "metadata": {},
   "outputs": [],
   "source": [
    "from sklearn.feature_selection import SelectKBest, chi2\n",
    "\n",
    "\n",
    "from sklearn.preprocessing import MinMaxScaler\n",
    "scaler = MinMaxScaler()\n",
    "X_scaled_positive = scaler.fit_transform(X)\n",
    "\n",
    "# Apply Chi-Square\n",
    "chi2_selector = SelectKBest(score_func=chi2, k=5)\n",
    "chi2_selector.fit(X_scaled_positive, y)\n",
    "\n",
    "# Get selected feature names\n",
    "selected_features_chi2 = X.columns[chi2_selector.get_support()]\n",
    "print(\"Top 5 features selected by Chi-Square Test:\")\n",
    "print(selected_features_chi2)\n"
   ]
  },
  {
   "cell_type": "code",
   "execution_count": null,
   "id": "2e1a8301",
   "metadata": {},
   "outputs": [],
   "source": []
  }
 ],
 "metadata": {
  "kernelspec": {
   "display_name": "Python 3",
   "language": "python",
   "name": "python3"
  },
  "language_info": {
   "name": "python",
   "version": "3.12.2"
  }
 },
 "nbformat": 4,
 "nbformat_minor": 5
}
